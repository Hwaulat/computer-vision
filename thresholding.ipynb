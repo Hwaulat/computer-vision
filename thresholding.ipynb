{
  "nbformat": 4,
  "nbformat_minor": 0,
  "metadata": {
    "colab": {
      "name": "Untitled0.ipynb",
      "provenance": [],
      "authorship_tag": "ABX9TyOqE15V91tFWd7JsbtOQs3d",
      "include_colab_link": true
    },
    "kernelspec": {
      "name": "python3",
      "display_name": "Python 3"
    },
    "language_info": {
      "name": "python"
    }
  },
  "cells": [
    {
      "cell_type": "markdown",
      "metadata": {
        "id": "view-in-github",
        "colab_type": "text"
      },
      "source": [
        "<a href=\"https://colab.research.google.com/github/Hwaulat/computer-vision/blob/main/thresholding.ipynb\" target=\"_parent\"><img src=\"https://colab.research.google.com/assets/colab-badge.svg\" alt=\"Open In Colab\"/></a>"
      ]
    },
    {
      "cell_type": "code",
      "metadata": {
        "id": "evTR-B7k6lkf"
      },
      "source": [
        "import matplotlib.pyplot as plt\n",
        "import cv2\n"
      ],
      "execution_count": null,
      "outputs": []
    },
    {
      "cell_type": "code",
      "metadata": {
        "id": "1DmtIT7p6ouy"
      },
      "source": [
        "def plt_imshow(title, image):\n",
        "\t# convert the image frame BGR to RGB color space and display it\n",
        "\timage = cv2.cvtColor(image, cv2.COLOR_BGR2RGB)\n",
        "\tplt.imshow(image)\n",
        "\tplt.title(title)\n",
        "\tplt.grid(False)\n",
        "\tplt.show()\n"
      ],
      "execution_count": null,
      "outputs": []
    },
    {
      "cell_type": "code",
      "metadata": {
        "id": "Wlbj7Kmz6rj4"
      },
      "source": [
        "#inisialisasi image untuk dikonversi dan dipanggil nantinya\n",
        "args = {\n",
        "\t\"image\": \"jeruknipis.png\"\n",
        "}\n"
      ],
      "execution_count": null,
      "outputs": []
    },
    {
      "cell_type": "code",
      "metadata": {
        "id": "tX9pH9uT6s9s"
      },
      "source": [
        "#menggambil file gambar dan nampilkan\n",
        "image = cv2.imread(args[\"image\"])\n",
        "plt_imshow(\"Image\", image)\n",
        "\n",
        "gray = cv2.cvtColor(image, cv2.COLOR_BGR2GRAY)\n",
        "blurred = cv2.GaussianBlur(gray, (7, 7), 0)"
      ],
      "execution_count": null,
      "outputs": []
    },
    {
      "cell_type": "code",
      "metadata": {
        "id": "-vDghnvL6wW6"
      },
      "source": [
        "(T, threshInv) = cv2.threshold(blurred, 230, 255,\n",
        "\tcv2.THRESH_BINARY_INV)\n",
        "plt_imshow(\"Simple Thresholding\", threshInv)"
      ],
      "execution_count": null,
      "outputs": []
    },
    {
      "cell_type": "code",
      "metadata": {
        "id": "WsIi2aXV6zRF"
      },
      "source": [
        "thresh = cv2.adaptiveThreshold(blurred, 255,\n",
        "\tcv2.ADAPTIVE_THRESH_MEAN_C, cv2.THRESH_BINARY_INV, 21, 10)\n",
        "plt_imshow(\"Mean Adaptive Thresholding\", thresh)"
      ],
      "execution_count": null,
      "outputs": []
    },
    {
      "cell_type": "code",
      "metadata": {
        "id": "wpQcs21C60nD"
      },
      "source": [
        "thresh = cv2.adaptiveThreshold(blurred, 255,\n",
        "\tcv2.ADAPTIVE_THRESH_GAUSSIAN_C, cv2.THRESH_BINARY_INV, 21, 4)\n",
        "plt_imshow(\"Gaussian Adaptive Thresholding\", thresh)"
      ],
      "execution_count": null,
      "outputs": []
    }
  ]
}